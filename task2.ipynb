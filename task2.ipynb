{
 "cells": [
  {
   "cell_type": "markdown",
   "metadata": {},
   "source": [
    "# Current soln"
   ]
  },
  {
   "cell_type": "code",
   "execution_count": 2,
   "metadata": {},
   "outputs": [],
   "source": [
    "from langchain_openai import ChatOpenAI\n",
    "import json\n",
    "\n",
    "llm = ChatOpenAI(model=\"gpt-3.5-turbo\", temperature=0)"
   ]
  },
  {
   "cell_type": "code",
   "execution_count": 3,
   "metadata": {},
   "outputs": [],
   "source": [
    "def construct_question(json_context: dict, target_variable: str, output_type: str = None, output_options: list = None):\n",
    "    context_str = json.dumps(json_context, indent=2)\n",
    "\n",
    "    prompt = f\"Given the following context:\\n{context_str}\\n\\n\"\n",
    "\n",
    "    prompt += f\"Please construct a question to ask the user to obtain the value for '{target_variable}'\"\n",
    "    \n",
    "    if output_type:\n",
    "        prompt += f\" that is of type '{output_type}'\"\n",
    "    \n",
    "    if output_options:\n",
    "        options_str = ', '.join(output_options)\n",
    "        prompt += f\" and should be one of the following options: {options_str}\"\n",
    "    \n",
    "    prompt += \".\"\n",
    "\n",
    "    response = llm.predict(prompt)\n",
    "\n",
    "    return response.strip()\n"
   ]
  },
  {
   "cell_type": "code",
   "execution_count": 7,
   "metadata": {},
   "outputs": [
    {
     "data": {
      "text/plain": [
       "'On a scale of 1 to 10, with 1 being the least severe and 10 being the most severe, how would you rate the severity of your chest pain?'"
      ]
     },
     "execution_count": 7,
     "metadata": {},
     "output_type": "execute_result"
    }
   ],
   "source": [
    "json_context = {\n",
    "    \"patient\": {\n",
    "        \"name\": \"Jane Smith\",\n",
    "        \"age\": 45,\n",
    "        \"symptoms\": [\"chest pain\", \"shortness of breath\", \"dizziness\"],\n",
    "        \"medical_history\": [\"hypertension\", \"diabetes\"]\n",
    "    },\n",
    "    \"triage\": {\n",
    "        \"priority_level\": \"high\",\n",
    "        \"current_vitals\": {\n",
    "            \"heart_rate\": 110,\n",
    "            \"blood_pressure\": \"150/90\",\n",
    "            \"temperature\": 98.6\n",
    "        }\n",
    "    }\n",
    "}\n",
    "\n",
    "target_variable = \"pain severity\"\n",
    "output_type = \"number\"\n",
    "output_options = [\"1\", \"2\", \"3\", \"4\", \"5\", \"6\", \"7\", \"8\", \"9\", \"10\"]\n",
    "\n",
    "question = construct_question(json_context, target_variable, output_type, output_options)\n",
    "question"
   ]
  },
  {
   "cell_type": "markdown",
   "metadata": {},
   "source": [
    "Further improvments: context validation to make sure all context is given before being sent to the function. Maybe even include a list of tagged required fields to the function"
   ]
  },
  {
   "cell_type": "code",
   "execution_count": 8,
   "metadata": {},
   "outputs": [
    {
     "data": {
      "text/plain": [
       "'What are the current symptoms that John Doe is experiencing? Please provide a list of symptoms.'"
      ]
     },
     "execution_count": 8,
     "metadata": {},
     "output_type": "execute_result"
    }
   ],
   "source": [
    "json_context= {\n",
    "    \"patient\": {\n",
    "        \"name\": \"John Doe\",\n",
    "        \"age\": 50,\n",
    "        \"current symptoms\": None\n",
    "    },\n",
    "    \"triage\": {\n",
    "        \"priority_level\": \"medium\",\n",
    "    }\n",
    "}\n",
    "\n",
    "target_variable = \"current symptoms\"\n",
    "output_type = \"list\"\n",
    "\n",
    "question = construct_question(json_context, target_variable, output_type)\n",
    "question\n"
   ]
  }
 ],
 "metadata": {
  "kernelspec": {
   "display_name": "gpt-agent",
   "language": "python",
   "name": "python3"
  },
  "language_info": {
   "codemirror_mode": {
    "name": "ipython",
    "version": 3
   },
   "file_extension": ".py",
   "mimetype": "text/x-python",
   "name": "python",
   "nbconvert_exporter": "python",
   "pygments_lexer": "ipython3",
   "version": "3.11.9"
  }
 },
 "nbformat": 4,
 "nbformat_minor": 2
}
